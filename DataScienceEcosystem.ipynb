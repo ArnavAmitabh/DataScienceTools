{
 "cells": [
  {
   "cell_type": "markdown",
   "id": "506dc5f7",
   "metadata": {},
   "source": [
    "# Data Science Tools and Ecosystem"
   ]
  },
  {
   "cell_type": "markdown",
   "id": "df6dabe4",
   "metadata": {},
   "source": [
    "In this notebook, Data science Tools and Ecosystem are summarized"
   ]
  },
  {
   "cell_type": "markdown",
   "id": "6c98be52",
   "metadata": {},
   "source": [
    "Some of the languages used by Data Scientists are:\n",
    "1. Python\n",
    "2. R\n",
    "3. SQL\n",
    "4. C++\n",
    "5. Java etc.."
   ]
  },
  {
   "cell_type": "markdown",
   "id": "66ca9173",
   "metadata": {},
   "source": [
    "Some of the commonly used librabries by Data Scientists include:\n",
    "1. Tensorflow\n",
    "2. NumPy\n",
    "3. SciPy\n",
    "4. Pandas\n",
    "5. Matplotlib\n",
    "6. Keras\n",
    "7. SciKit-Learn\n",
    "8. PyTorch etc.."
   ]
  },
  {
   "cell_type": "markdown",
   "id": "14e23b9a",
   "metadata": {},
   "source": [
    "|Data Science Tools|\n",
    "|---|\n",
    "|SAS|\n",
    "|Apache Hadoop|\n",
    "|TensorFlow|"
   ]
  },
  {
   "cell_type": "markdown",
   "id": "17379437",
   "metadata": {},
   "source": [
    "### Arithmetic Expressions Examples in Python"
   ]
  },
  {
   "cell_type": "code",
   "execution_count": 1,
   "id": "c565cefd",
   "metadata": {},
   "outputs": [
    {
     "data": {
      "text/plain": [
       "31"
      ]
     },
     "execution_count": 1,
     "metadata": {},
     "output_type": "execute_result"
    }
   ],
   "source": [
    "#Multiplication and Addition Example\n",
    "(7*3)+10"
   ]
  },
  {
   "cell_type": "code",
   "execution_count": 2,
   "id": "ed56e0dd",
   "metadata": {},
   "outputs": [
    {
     "data": {
      "text/plain": [
       "8.333333333333334"
      ]
     },
     "execution_count": 2,
     "metadata": {},
     "output_type": "execute_result"
    }
   ],
   "source": [
    "#Converison From minutes to hours\n",
    "#Converting 500 minutes into hours by dividing it by 60\n",
    "500/60"
   ]
  },
  {
   "cell_type": "markdown",
   "id": "a1f657b5",
   "metadata": {},
   "source": [
    "__Objective__\n",
    "* List popular language for Data Science\n",
    "* List popular librabries for Data Science\n",
    "* List all well known Data science Tools\n",
    "* how to provide comments in the cell"
   ]
  },
  {
   "cell_type": "markdown",
   "id": "a6dfa192",
   "metadata": {},
   "source": [
    "## Author\n",
    "Arnav Amitabh"
   ]
  }
 ],
 "metadata": {
  "kernelspec": {
   "display_name": "Python 3 (ipykernel)",
   "language": "python",
   "name": "python3"
  },
  "language_info": {
   "codemirror_mode": {
    "name": "ipython",
    "version": 3
   },
   "file_extension": ".py",
   "mimetype": "text/x-python",
   "name": "python",
   "nbconvert_exporter": "python",
   "pygments_lexer": "ipython3",
   "version": "3.11.7"
  }
 },
 "nbformat": 4,
 "nbformat_minor": 5
}
